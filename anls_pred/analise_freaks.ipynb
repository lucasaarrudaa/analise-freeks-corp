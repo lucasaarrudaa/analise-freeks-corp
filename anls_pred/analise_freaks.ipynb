{
 "cells": [
  {
   "cell_type": "code",
   "execution_count": 23,
   "metadata": {},
   "outputs": [],
   "source": [
    "import pandas as pd\n",
    "from sklearn.model_selection import train_test_split\n",
    "from sklearn.linear_model import LinearRegression\n",
    "from sklearn.metrics import r2_score, mean_squared_error, mean_absolute_error\n",
    "from gera_dados import df"
   ]
  },
  {
   "cell_type": "code",
   "execution_count": 1,
   "metadata": {},
   "outputs": [
    {
     "ename": "NameError",
     "evalue": "name 'df' is not defined",
     "output_type": "error",
     "traceback": [
      "\u001b[1;31m---------------------------------------------------------------------------\u001b[0m",
      "\u001b[1;31mNameError\u001b[0m                                 Traceback (most recent call last)",
      "Cell \u001b[1;32mIn[1], line 1\u001b[0m\n\u001b[1;32m----> 1\u001b[0m dados \u001b[39m=\u001b[39m df \n\u001b[0;32m      3\u001b[0m \u001b[39m# Separando as variáveis independentes (CPC, CTR, Tx de Conversão) e a variável dependente (lucro mensal)\u001b[39;00m\n\u001b[0;32m      4\u001b[0m X \u001b[39m=\u001b[39m dados[[\u001b[39m'\u001b[39m\u001b[39mcpc\u001b[39m\u001b[39m'\u001b[39m, \u001b[39m'\u001b[39m\u001b[39mctr\u001b[39m\u001b[39m'\u001b[39m, \u001b[39m'\u001b[39m\u001b[39mroi\u001b[39m\u001b[39m'\u001b[39m, \u001b[39m'\u001b[39m\u001b[39mcpa\u001b[39m\u001b[39m'\u001b[39m, \u001b[39m'\u001b[39m\u001b[39mrpa\u001b[39m\u001b[39m'\u001b[39m, \u001b[39m'\u001b[39m\u001b[39mimpressoes_por_dia\u001b[39m\u001b[39m'\u001b[39m, \u001b[39m'\u001b[39m\u001b[39mtx_conversao\u001b[39m\u001b[39m'\u001b[39m]]\n",
      "\u001b[1;31mNameError\u001b[0m: name 'df' is not defined"
     ]
    }
   ],
   "source": [
    "dados = df \n",
    "\n",
    "# Separando as variáveis independentes (CPC, CTR, Tx de Conversão) e a variável dependente (lucro mensal)\n",
    "X = dados[['cpc', 'ctr', 'roi', 'cpa', 'rpa', 'impressoes_por_dia', 'tx_conversao']]\n",
    "y = dados['lucro_mensal', 'cpc']\n",
    "\n",
    "# Dividindo os dados em amostra de treinamento e teste\n",
    "X_train, X_test, y_train, y_test = train_test_split(X, y, test_size=0.2, random_state=42) # Pode ajustar o tamanho da amostra de teste (test_size) e a semente aleatória (random_state) de acordo com suas necessidades\n",
    "\n",
    "# Criando o modelo de regressão linear múltipla\n",
    "modelo = LinearRegression()\n",
    "\n",
    "# Ajustando o modelo aos dados de treinamento\n",
    "modelo.fit(X_train, y_train)\n",
    "\n",
    "# Fazendo predições usando o modelo treinado\n",
    "y_pred = modelo.predict(X_test)\n",
    "\n",
    "# Avaliando a performance do modelo\n",
    "r2 = r2_score(y_test, y_pred) # Coeficiente de determinação\n",
    "mse = mean_squared_error(y_test, y_pred) # Erro quadrático médio\n",
    "mae = mean_absolute_error(y_test, y_pred) # Erro absoluto médio\n",
    "\n",
    "\n",
    "print(\"Erro Absoluto Médio (MAE):\", mae)\n",
    "print(\"Erro Quadrático Médio (MSE):\", mse)\n",
    "print(\"Coeficiente de Determinação (R²):\", r2)"
   ]
  },
  {
   "attachments": {},
   "cell_type": "markdown",
   "metadata": {},
   "source": [
    "| Métrica | Valor |\n",
    "| --------|------ | \n",
    "| Erro Absoluto Médio (MAE) | 16933 |\n",
    "| Erro Quadrático Médio (MSE) | 424001900 |\n",
    "| Coeficiente de Determinação (R²) | 79.25% |"
   ]
  },
  {
   "cell_type": "code",
   "execution_count": 25,
   "metadata": {},
   "outputs": [],
   "source": [
    "novos_dados = df"
   ]
  },
  {
   "cell_type": "code",
   "execution_count": 26,
   "metadata": {},
   "outputs": [],
   "source": [
    "X_novos = novos_dados[['cpc', 'ctr', 'roi', 'cpa', 'rpa', 'impressoes_por_dia', 'tx_conversao']]\n",
    "y_pred_novos = modelo.predict(X_novos)"
   ]
  },
  {
   "cell_type": "code",
   "execution_count": 27,
   "metadata": {},
   "outputs": [
    {
     "name": "stdout",
     "output_type": "stream",
     "text": [
      "previsão de média de lucro mensal da campanha A para o ano de 2031: 224852.46\n",
      "previsão de média de lucro mensal da campanha B para o ano de 2031: 152947.57\n",
      "previsão de média de lucro mensal da campanha C para o ano de 2031: 231272.06\n",
      "previsão de média de lucro mensal da campanha D para o ano de 2031: 178979.34\n"
     ]
    }
   ],
   "source": [
    "a = y_pred_novos[0]\n",
    "b = y_pred_novos[1]\n",
    "c = y_pred_novos[2]\n",
    "d = y_pred_novos[3]\n",
    "\n",
    "print(f'previsão de média de lucro mensal da campanha A para o ano de 2031: {a.round(2)}')\n",
    "print(f'previsão de média de lucro mensal da campanha B para o ano de 2031: {b.round(2)}')\n",
    "print(f'previsão de média de lucro mensal da campanha C para o ano de 2031: {c.round(2)}')\n",
    "print(f'previsão de média de lucro mensal da campanha D para o ano de 2031: {d.round(2)}')"
   ]
  }
 ],
 "metadata": {
  "kernelspec": {
   "display_name": "Python 3",
   "language": "python",
   "name": "python3"
  },
  "language_info": {
   "codemirror_mode": {
    "name": "ipython",
    "version": 3
   },
   "file_extension": ".py",
   "mimetype": "text/x-python",
   "name": "python",
   "nbconvert_exporter": "python",
   "pygments_lexer": "ipython3",
   "version": "3.11.2"
  },
  "orig_nbformat": 4
 },
 "nbformat": 4,
 "nbformat_minor": 2
}
