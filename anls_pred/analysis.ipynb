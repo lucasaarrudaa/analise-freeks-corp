{
 "cells": [
  {
   "cell_type": "code",
   "execution_count": 49,
   "metadata": {},
   "outputs": [],
   "source": [
    "import pandas as pd\n",
    "import numpy as np\n",
    "from sklearn.model_selection import train_test_split\n",
    "from sklearn.linear_model import LinearRegression\n",
    "from sklearn.metrics import r2_score, mean_squared_error, mean_absolute_error\n",
    "from gera_dados import campaign_data_df"
   ]
  },
  {
   "cell_type": "code",
   "execution_count": 56,
   "metadata": {},
   "outputs": [
    {
     "name": "stdout",
     "output_type": "stream",
     "text": [
      "Mean Absolute Error (MAE): 32899.27465112908\n",
      "Mean Squared Error (MSE): 4030170835.1588407\n",
      "Coefficient of Determination (R²): 0.6051871011231982\n"
     ]
    }
   ],
   "source": [
    "data = campaign_data_df\n",
    "\n",
    "# Separating the independent variables (CPC, CTR, Conversion Rate) and the dependent variable (monthly profit)\n",
    "X = data[['cpc', 'ctr', 'roi', 'cpa', 'rpa', 'impressions_per_day', 'cvr', 'daily_sales']]\n",
    "y = data[['monthly_profit', 'cpc']]\n",
    "\n",
    "# Splitting the data into training and test samples\n",
    "X_train, X_test, y_train, y_test = train_test_split(X, y, test_size=0.2, random_state=42) # You can adjust the test sample size (test_size) and random seed (random_state) according to your needs\n",
    "\n",
    "# Creating the multiple linear regression model\n",
    "model = LinearRegression()\n",
    "\n",
    "# Fitting the model to the training data\n",
    "model.fit(X_train, y_train)\n",
    "\n",
    "# Making predictions using the trained model\n",
    "y_pred = model.predict(X_test)\n",
    "\n",
    "# Evaluating the model's performance\n",
    "r2 = r2_score(y_test, y_pred) # R-squared coefficient\n",
    "mse = mean_squared_error(y_test, y_pred) # Mean Squared Error\n",
    "mae = mean_absolute_error(y_test, y_pred) # Mean Absolute Error\n",
    "\n",
    "print(\"Mean Absolute Error (MAE):\", mae)\n",
    "print(\"Mean Squared Error (MSE):\", mse)\n",
    "print(\"Coefficient of Determination (R²):\", r2)\n"
   ]
  },
  {
   "cell_type": "code",
   "execution_count": 52,
   "metadata": {},
   "outputs": [],
   "source": [
    "new_data = campaign_data_df"
   ]
  },
  {
   "cell_type": "code",
   "execution_count": 53,
   "metadata": {},
   "outputs": [],
   "source": [
    "X_new = new_data[['cpc', 'ctr', 'roi', 'cpa', 'rpa', 'impressions_per_day', 'cvr', 'daily_sales']]\n",
    "y_pred_new = model.predict(X_new)"
   ]
  },
  {
   "cell_type": "code",
   "execution_count": 54,
   "metadata": {},
   "outputs": [],
   "source": [
    "a = y_pred_new[0]\n",
    "b = y_pred_new[1]\n",
    "c = y_pred_new[2]\n",
    "d = y_pred_new[3]"
   ]
  },
  {
   "cell_type": "code",
   "execution_count": 55,
   "metadata": {},
   "outputs": [
    {
     "name": "stdout",
     "output_type": "stream",
     "text": [
      "Estimated average monthly profit for Campaign A in 2031: R$ 187,040.40\n",
      "Estimated average monthly profit for Campaign B in 2031: R$ 162,190.00\n",
      "Estimated average monthly profit for Campaign C in 2031: R$ 268,143.50\n",
      "Estimated average monthly profit for Campaign D in 2031: R$ 164,311.74\n"
     ]
    }
   ],
   "source": [
    "print(f'Estimated average monthly profit for Campaign A in 2031: R$ {round(a[0], 2):,.2f}')\n",
    "print(f'Estimated average monthly profit for Campaign B in 2031: R$ {round(b[0], 2):,.2f}')\n",
    "print(f'Estimated average monthly profit for Campaign C in 2031: R$ {round(c[0], 2):,.2f}')\n",
    "print(f'Estimated average monthly profit for Campaign D in 2031: R$ {round(d[0], 2):,.2f}')"
   ]
  },
  {
   "cell_type": "code",
   "execution_count": null,
   "metadata": {},
   "outputs": [],
   "source": []
  }
 ],
 "metadata": {
  "kernelspec": {
   "display_name": "Python 3",
   "language": "python",
   "name": "python3"
  },
  "language_info": {
   "codemirror_mode": {
    "name": "ipython",
    "version": 3
   },
   "file_extension": ".py",
   "mimetype": "text/x-python",
   "name": "python",
   "nbconvert_exporter": "python",
   "pygments_lexer": "ipython3",
   "version": "3.11.2"
  },
  "orig_nbformat": 4
 },
 "nbformat": 4,
 "nbformat_minor": 2
}
